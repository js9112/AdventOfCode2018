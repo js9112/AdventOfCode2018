{
 "cells": [
  {
   "cell_type": "markdown",
   "metadata": {},
   "source": [
    "<a id='top'></a>\n",
    "<h1> Jana's Advent of Code 2018 solutions</h1>\n",
    "\n",
    "The probelms can be found on https://adventofcode.com/2018\n"
   ]
  },
  {
   "cell_type": "markdown",
   "metadata": {},
   "source": [
    "<b> Table of Contents </b>\n",
    "<ul>\n",
    "    <li><a href='#day1'>Day 1</a></li>\n",
    "    <li><a href='#day2'>Day 2</a></li>\n",
    "    <li><a href='#day3'>Day 3</a></li>\n",
    "    <li><a href='#day4'>Day 4</a></li>\n",
    "    <li><a href='#day5'>Day 5</a></li>\n",
    "    <li><a href='#day6'>Day 6</a></li>\n",
    "    <li><a href='#day7'>Day 7</a></li>\n",
    "    <li><a href='#day8'>Day 8</a></li>\n",
    "    <li><a href='#day9'>Day 9</a></li>\n",
    "    <li><a href='#day10'>Day 10</a></li>\n",
    "    <li><a href='#day11'>Day 11</a></li>\n",
    "    <li><a href='#day12'>Day 12</a></li>\n",
    "</ul>"
   ]
  },
  {
   "cell_type": "code",
   "execution_count": 1,
   "metadata": {
    "collapsed": true
   },
   "outputs": [],
   "source": [
    "import numpy as np\n",
    "import re\n",
    "\n",
    "path='inputs/'"
   ]
  },
  {
   "cell_type": "markdown",
   "metadata": {},
   "source": [
    "<a href='#top'>Back to top</a>\n",
    "<a id='day1'></a>\n",
    "<h2> Day 1 </h2>"
   ]
  },
  {
   "cell_type": "code",
   "execution_count": 2,
   "metadata": {
    "collapsed": true
   },
   "outputs": [],
   "source": [
    "inputs=np.loadtxt(path+'input.txt')"
   ]
  },
  {
   "cell_type": "code",
   "execution_count": 3,
   "metadata": {
    "collapsed": false
   },
   "outputs": [
    {
     "name": "stdout",
     "output_type": "stream",
     "text": [
      "Part 1: 484\n"
     ]
    }
   ],
   "source": [
    "final=sum(inputs)\n",
    "print('Part 1: %i'%final)"
   ]
  },
  {
   "cell_type": "code",
   "execution_count": 4,
   "metadata": {
    "collapsed": false
   },
   "outputs": [
    {
     "name": "stdout",
     "output_type": "stream",
     "text": [
      "Part 2: 367\n"
     ]
    }
   ],
   "source": [
    "frequency=np.cumsum(inputs)\n",
    "intersection=[]\n",
    "\n",
    "frequencies=set()\n",
    "while not intersection:\n",
    "    frequencies=frequencies | set(frequency)\n",
    "    frequency+=final\n",
    "    intersection=frequencies.intersection(frequency)\n",
    "\n",
    "for f in frequency:\n",
    "    if f in intersection:\n",
    "        print('Part 2: %i'%f)\n",
    "        break\n",
    "\n"
   ]
  },
  {
   "cell_type": "markdown",
   "metadata": {},
   "source": [
    "<a href='#top'>Back to top</a>\n",
    "<a id='day2'></a>\n",
    "<h2> Day 2 </h2>"
   ]
  },
  {
   "cell_type": "code",
   "execution_count": 5,
   "metadata": {
    "collapsed": true
   },
   "outputs": [],
   "source": [
    "with open(path+'input2.txt','r') as file:\n",
    "    data=file.readlines()"
   ]
  },
  {
   "cell_type": "code",
   "execution_count": 6,
   "metadata": {
    "collapsed": false
   },
   "outputs": [
    {
     "name": "stdout",
     "output_type": "stream",
     "text": [
      "Part 1: 8820\n"
     ]
    }
   ],
   "source": [
    "twos=0\n",
    "threes=0\n",
    "for line in data:\n",
    "    sums=[line.count(letter) for letter in line]\n",
    "    if 2 in sums:\n",
    "        twos+=1\n",
    "    if 3 in sums:\n",
    "        threes+=1\n",
    "        \n",
    "print('Part 1: %i'%(twos*threes))\n",
    "            "
   ]
  },
  {
   "cell_type": "code",
   "execution_count": 7,
   "metadata": {
    "collapsed": false
   },
   "outputs": [
    {
     "name": "stdout",
     "output_type": "stream",
     "text": [
      "Part 2: bpacnmglhizqygfsjixtkwudr\n",
      "\n"
     ]
    }
   ],
   "source": [
    "for line in data:\n",
    "    for line2 in data:\n",
    "        a=[line[i]!=line2[i] for i in range(len(line))]\n",
    "        if sum(a)==0:\n",
    "            break\n",
    "        if sum(a)==1:\n",
    "            print('Part 2: %s'%\"\".join([line[i] for i in range(len(line)) if a[i]==0]))\n",
    "            "
   ]
  },
  {
   "cell_type": "markdown",
   "metadata": {},
   "source": [
    "<a href='#top'>Back to top</a>\n",
    "<a id='day3'></a>\n",
    "<h2> Day 3 </h2>"
   ]
  },
  {
   "cell_type": "code",
   "execution_count": 8,
   "metadata": {
    "collapsed": false
   },
   "outputs": [
    {
     "name": "stdout",
     "output_type": "stream",
     "text": [
      "Part 1: 105231\n",
      "Part 2: 164\n"
     ]
    }
   ],
   "source": [
    "with open(path+'input3.txt','r') as file:\n",
    "    claims=file.readlines()\n",
    "claims=[re.findall('-?\\d+',claim) for claim in claims]\n",
    "\n",
    "claims=np.array(claims,dtype=int)\n",
    "\n",
    "xmax=max(claims[:,1]+claims[:,3])\n",
    "ymax=max(claims[:,2]+claims[:,4])\n",
    "\n",
    "canvas=np.zeros((xmax,ymax))\n",
    "for claim in claims:\n",
    "    x=claim[1]\n",
    "    y=claim[2]\n",
    "    xlen=claim[3]\n",
    "    ylen=claim[4]\n",
    "    canvas[x:x+xlen,y:y+ylen]+=1\n",
    "print('Part 1: %i'%sum(sum(canvas>1)))\n",
    "\n",
    "for claim in claims:\n",
    "    id=claim[0]\n",
    "    x=claim[1]\n",
    "    y=claim[2]\n",
    "    xlen=claim[3]\n",
    "    ylen=claim[4]\n",
    "    if(sum(sum(canvas[x:x+xlen,y:y+ylen]>1))==0):\n",
    "        #print((canvas[x:x+xlen,y:y+ylen]))\n",
    "        print('Part 2: %i'%id)\n",
    "        "
   ]
  },
  {
   "cell_type": "markdown",
   "metadata": {},
   "source": [
    "<a href='#top'>Back to top</a>\n",
    "<a id='day4'></a>\n",
    "<h2> Day 4 </h2>"
   ]
  },
  {
   "cell_type": "code",
   "execution_count": 9,
   "metadata": {
    "collapsed": false
   },
   "outputs": [
    {
     "name": "stdout",
     "output_type": "stream",
     "text": [
      "Part 1: 77084\n",
      "Part 2: 23047\n"
     ]
    }
   ],
   "source": [
    "import datetime\n",
    "with open(path+'input4.txt','r') as file:\n",
    "    dates=file.readlines()\n",
    "    \n",
    "dates=sorted(dates, key=lambda x: datetime.datetime.strptime(x[:18], '[%Y-%m-%d %H:%M]'))\n",
    "max_guards=max([int(re.sub('[^\\d]','',date[18:])) for date in dates if '#' in date] )\n",
    "asleep=np.zeros((max_guards,60))\n",
    "for date in dates:\n",
    "    if '#' in date:\n",
    "        guard_id=int(re.sub('[^\\d]','',date[18:]))\n",
    "    if 'falls asleep' in date:\n",
    "        start=int(date[15:17])\n",
    "    if 'wakes up' in date:\n",
    "        end=int(date[15:17])\n",
    "        asleep[guard_id,start:end]+=1\n",
    "        \n",
    "durations=np.sum(asleep,axis=1)\n",
    "guard_id=np.argmax(durations)\n",
    "\n",
    "print('Part 1: %s' %(guard_id*np.argmax(asleep[guard_id])))\n",
    "\n",
    "\n",
    "guard_id,minute=np.unravel_index(asleep.argmax(), asleep.shape)\n",
    "\n",
    "print('Part 2: %s' %(guard_id*minute))"
   ]
  },
  {
   "cell_type": "markdown",
   "metadata": {},
   "source": [
    "<a href='#top'>Back to top</a>\n",
    "<a id='day5'></a>\n",
    "<h2> Day 5 </h2>"
   ]
  },
  {
   "cell_type": "code",
   "execution_count": 10,
   "metadata": {
    "collapsed": true
   },
   "outputs": [],
   "source": [
    "with open(path+'input5.txt','r') as file:\n",
    "    polymer=file.read()\n",
    "polymer=polymer[:-1]"
   ]
  },
  {
   "cell_type": "code",
   "execution_count": 11,
   "metadata": {
    "collapsed": false
   },
   "outputs": [
    {
     "name": "stdout",
     "output_type": "stream",
     "text": [
      "Part 1: 10564\n",
      "Part 2: 6336\n"
     ]
    }
   ],
   "source": [
    "rep_char=re.compile(r'(\\w)\\1{1}')\n",
    "\n",
    "def collapse_polymer(polymer):\n",
    "    len_polymer_before=0\n",
    "    #swap cases of every other character\n",
    "    polymer=''.join([c[0] + c[1] for c in zip(polymer[::2].swapcase(), polymer[1::2])])\n",
    "    while len(polymer)!=len_polymer_before:\n",
    "        len_polymer_before=len(polymer)\n",
    "        polymer=rep_char.sub('', polymer)\n",
    "    #swap back\n",
    "    polymer=''.join([c[0] + c[1] for c in zip(polymer[::2].swapcase(), polymer[1::2])])\n",
    "    return polymer\n",
    "    \n",
    "print('Part 1: %i'%len(collapse_polymer(polymer)))\n",
    "\n",
    "rem_polymer_legth=np.zeros(26,dtype=int)\n",
    "for i in range(65,91):\n",
    "    upper=chr(i)\n",
    "    lower=chr(i+32)\n",
    "    remaining_polymer=re.sub('%s|%s'%(upper,lower),'',polymer)\n",
    "    rem_polymer_legth[i-65]=len(collapse_polymer(remaining_polymer))\n",
    "\n",
    "print('Part 2: %i' %min(rem_polymer_legth))"
   ]
  },
  {
   "cell_type": "markdown",
   "metadata": {},
   "source": [
    "<a href='#top'>Back to top</a>\n",
    "<a id='day6'></a>\n",
    "<h2> Day 6 </h2>"
   ]
  },
  {
   "cell_type": "code",
   "execution_count": 12,
   "metadata": {
    "collapsed": false
   },
   "outputs": [
    {
     "name": "stdout",
     "output_type": "stream",
     "text": [
      "Part 1: 3647\n"
     ]
    },
    {
     "data": {
      "text/plain": [
       "[<matplotlib.lines.Line2D at 0x10bf975f8>]"
      ]
     },
     "execution_count": 12,
     "metadata": {},
     "output_type": "execute_result"
    },
    {
     "data": {
      "image/png": "[encoded data removed]",
      "text/plain": [
       "<matplotlib.figure.Figure at 0x10cd0a780>"
      ]
     },
     "metadata": {},
     "output_type": "display_data"
    }
   ],
   "source": [
    "import matplotlib.pyplot as plt\n",
    "%matplotlib inline\n",
    "\n",
    "with open(path+'input6.txt','r') as file:\n",
    "    coordinates=file.readlines()\n",
    "    \n",
    "coordinates=np.array([coordinate.split(', ') for coordinate in coordinates],dtype=int)\n",
    "xmin=min(coordinates[:,0])\n",
    "xmax=max(coordinates[:,0])\n",
    "ymin=min(coordinates[:,1])\n",
    "ymax=max(coordinates[:,1])\n",
    "\n",
    "xcoords=np.tile(np.arange(xmin,xmax+1),((ymax-ymin+1),1))\n",
    "ycoords=np.tile(np.arange(ymin,ymax+1),((xmax-xmin+1),1)).transpose()\n",
    "                \n",
    "distances=[abs(coordinate[0]-xcoords)+abs(coordinate[1]-ycoords) for coordinate in coordinates]\n",
    "\n",
    "min_distances=np.argmin(distances,axis=0)+1\n",
    "\n",
    "only_one=np.sum(np.min(distances,axis=0)==distances, axis=0)==1\n",
    "closest_coordinate=min_distances*only_one\n",
    "\n",
    "\n",
    "\n",
    "edges=set(closest_coordinate[0,:])|set(closest_coordinate[-1,:])|set(closest_coordinate[:,0])|set(closest_coordinate[:,-1])\n",
    "not_edges=set(closest_coordinate.flatten())-edges\n",
    "print('Part 1: %i' %np.max([sum(sum(closest_coordinate==a)) for a in not_edges]))\n",
    "\n",
    "\n",
    "plt.imshow(closest_coordinate, aspect='equal', extent=(xmin,xmax,ymin,ymax),origin=lower)\n",
    "plt.plot(coordinates[:,0],coordinates[:,1] ,'r.')"
   ]
  },
  {
   "cell_type": "code",
   "execution_count": 13,
   "metadata": {
    "collapsed": false
   },
   "outputs": [
    {
     "name": "stdout",
     "output_type": "stream",
     "text": [
      "Part 2: 41605\n"
     ]
    },
    {
     "data": {
      "text/plain": [
       "[<matplotlib.lines.Line2D at 0x1166ac048>]"
      ]
     },
     "execution_count": 13,
     "metadata": {},
     "output_type": "execute_result"
    },
    {
     "data": {
      "image/png": "[encoded data removed]",
      "text/plain": [
       "<matplotlib.figure.Figure at 0x109cfaef0>"
      ]
     },
     "metadata": {},
     "output_type": "display_data"
    }
   ],
   "source": [
    "sum_coordinates=np.sum(distances,axis=0)\n",
    "\n",
    "print('Part 2: %i'%sum(sum(sum_coordinates<10000)))\n",
    "\n",
    "      \n",
    "plt.imshow(sum_coordinates, aspect='equal', extent=(xmin,xmax,ymin,ymax),origin=lower)\n",
    "plt.contour(sum_coordinates,[10000], colors=['w'],extent=(xmin,xmax,ymin,ymax))\n",
    "plt.plot(coordinates[:,0],coordinates[:,1] ,'r.')\n"
   ]
  },
  {
   "cell_type": "markdown",
   "metadata": {},
   "source": [
    "<a href='#top'>Back to top</a>\n",
    "<a id='day7'></a>\n",
    "<h2> Day 7 </h2>"
   ]
  },
  {
   "cell_type": "code",
   "execution_count": 14,
   "metadata": {
    "collapsed": false,
    "scrolled": false
   },
   "outputs": [
    {
     "name": "stdout",
     "output_type": "stream",
     "text": [
      "Part 1: GLMVWXZDKOUCEJRHFAPITSBQNY\n",
      "Part 2: 1105\n"
     ]
    }
   ],
   "source": [
    "with open(path+'input7.txt','r') as file:\n",
    "    instructions=file.readlines()\n",
    "\n",
    "a=np.array([re.findall('[A-Z]',i[1:]) for i in instructions])\n",
    "\n",
    "completed=''\n",
    "to_complete=set(a.flatten())\n",
    "for i in range(len(to_complete)):\n",
    "    options=set()\n",
    "    for char in to_complete:\n",
    "        needed=[entry[0] for entry in a if entry[1]==char]\n",
    "        if set(needed).issubset(completed):\n",
    "            options.add(char)\n",
    "    completed+=min(options)\n",
    "    to_complete.remove(min(options))\n",
    "\n",
    "print('Part 1: %s' %completed)\n",
    "\n",
    "\n",
    "completed=''\n",
    "time_needed=60+np.arange(1,27)\n",
    "to_complete=set(a.flatten())\n",
    "workers_available=5\n",
    "time=0\n",
    "active=set()\n",
    "while len(to_complete)>0:\n",
    "    options=set()\n",
    "    for char in np.sort(list(to_complete)):\n",
    "        needed=[entry[0] for entry in a if entry[1]==char]\n",
    "        if set(needed).issubset(completed):\n",
    "            options.add(char)\n",
    "    for char in sorted(options):\n",
    "        if char not in active and workers_available>0:\n",
    "            workers_available-=1\n",
    "            active.add(char)\n",
    "    min_time_needed=min([time_needed[ord(char)-65] for char in active])   \n",
    "    for char in sorted(active):\n",
    "        time_needed[ord(char)-65]-=min_time_needed\n",
    "        if not time_needed[ord(char)-65]:\n",
    "            workers_available+=1\n",
    "            completed+=char\n",
    "            to_complete.remove(char)\n",
    "            active.remove(char)\n",
    "    time+=min_time_needed\n",
    "\n",
    "print('Part 2: %i' %time)\n"
   ]
  },
  {
   "cell_type": "markdown",
   "metadata": {},
   "source": [
    "<a href='#top'>Back to top</a>\n",
    "<h2 id='day8'> Day 8 </h2>"
   ]
  },
  {
   "cell_type": "code",
   "execution_count": 15,
   "metadata": {
    "collapsed": false
   },
   "outputs": [
    {
     "name": "stdout",
     "output_type": "stream",
     "text": [
      "Part 1: 41760\n",
      "Part 2: 25737\n"
     ]
    }
   ],
   "source": [
    "tree=np.loadtxt(path+'input8.txt',dtype=int)\n",
    "\n",
    "#tree=[2, 3, 0, 3, 10, 11, 12, 1, 1, 0, 1, 99, 2, 1, 1, 2]\n",
    "\n",
    "def untangle(tree):\n",
    "    metadata=[]\n",
    "    child_values=[]\n",
    "    n_child_nodes=tree[0]\n",
    "    n_metadata_entries=tree[1]\n",
    "    processed_lenght=2\n",
    "    for i in range(n_child_nodes):\n",
    "        child_lenght,child_metadata,child_value=untangle(tree[processed_lenght:])\n",
    "        processed_lenght+=child_lenght\n",
    "        metadata+=child_metadata\n",
    "        child_values+=[child_value]\n",
    "    node_lenght=processed_lenght+n_metadata_entries\n",
    "    metadata_entries=tree[processed_lenght:node_lenght]\n",
    "    metadata+=[metadata_entries]\n",
    "    if n_child_nodes==0:\n",
    "        value=sum(metadata_entries)\n",
    "    else:\n",
    "        value=sum([child_values[i-1] for i in metadata_entries if i <= n_child_nodes])\n",
    "    return node_lenght,metadata,value\n",
    "        \n",
    "l,m,v=untangle(tree)\n",
    "\n",
    "answer=sum([sum(x) for x in m])\n",
    "print('Part 1: %i' %answer)\n",
    "\n",
    "print('Part 2: %i' %v)"
   ]
  },
  {
   "cell_type": "markdown",
   "metadata": {},
   "source": [
    "<a href='#top'>Back to top</a>\n",
    "<h2 id='day9'> Day 9 </h2>"
   ]
  },
  {
   "cell_type": "code",
   "execution_count": 16,
   "metadata": {
    "collapsed": false
   },
   "outputs": [
    {
     "name": "stdout",
     "output_type": "stream",
     "text": [
      "Part 1: 396136\n",
      "Part 2: 3183301184\n"
     ]
    }
   ],
   "source": [
    "from collections import deque\n",
    "with open(path+'input9.txt','r') as f:\n",
    "    rules=f.read().split()\n",
    "\n",
    "\n",
    "#rules='10 players; last marble is worth 1618 points'.split()\n",
    "\n",
    "players=int(rules[0])\n",
    "last_marble=int(rules[6])\n",
    "score=np.zeros(players,dtype=int)\n",
    "\n",
    "marbles_placed=deque([0])\n",
    "\n",
    "def place_marble(marble,marbles_placed,score,players):\n",
    "    if marble%23:\n",
    "        marbles_placed.rotate(2)\n",
    "        marbles_placed.append(marble)\n",
    "    else:\n",
    "        player=marble%players\n",
    "        score[player]+=marble\n",
    "        marbles_placed.rotate(-7)\n",
    "        removed_marble=marbles_placed.pop()\n",
    "        score[player]+=removed_marble\n",
    "    return marbles_placed,score,players\n",
    "    \n",
    "\n",
    "for marble in range(1,last_marble+1):\n",
    "    marbles_placed,score,players=place_marble(marble,marbles_placed,score,players)\n",
    "\n",
    "print('Part 1: %i'%max(score))    \n",
    "\n",
    "for marble in range(last_marble+1,(last_marble*100)+1):\n",
    "    marbles_placed,score,players=place_marble(marble,marbles_placed,score,players)\n",
    "    \n",
    "print('Part 2: %i'%max(score))\n"
   ]
  },
  {
   "cell_type": "markdown",
   "metadata": {},
   "source": [
    "<a href='#top'>Back to top</a>\n",
    "<h2 id='day10'> Day 10 </h2>"
   ]
  },
  {
   "cell_type": "code",
   "execution_count": 17,
   "metadata": {
    "collapsed": false
   },
   "outputs": [
    {
     "data": {
      "image/png": "[encoded data removed]",
      "text/plain": [
       "<matplotlib.figure.Figure at 0x10bf972e8>"
      ]
     },
     "metadata": {},
     "output_type": "display_data"
    },
    {
     "name": "stdout",
     "output_type": "stream",
     "text": [
      "Part 2: 10831\n"
     ]
    }
   ],
   "source": [
    "with open(path+'input10.txt','r') as f:\n",
    "    points=f.readlines()\n",
    "\n",
    "points=np.array([re.findall('-?\\d+',point) for point in points],dtype=int)\n",
    "\n",
    "max_time=-2*int(points[0,0]/points[0,2])\n",
    "time=range(0,max_time)\n",
    "\n",
    "points_in_time=np.array([points[:,:2]+points[:,2:]*i for i in time])\n",
    "boundl=np.min(points_in_time[:,:,0],axis=1)\n",
    "boundr=np.max(points_in_time[:,:,0],axis=1)\n",
    "\n",
    "min_time=np.argmin(boundr-boundl)\n",
    "\n",
    "plt.plot(points_in_time[min_time,:,0],points_in_time[min_time,:,1],'s')\n",
    "plt.axis('equal')\n",
    "plt.gca().invert_yaxis()\n",
    "plt.title('Part 1')\n",
    "\n",
    "plt.show()\n",
    "\n",
    "print('Part 2: %i' %min_time)"
   ]
  },
  {
   "cell_type": "markdown",
   "metadata": {},
   "source": [
    "<a href='#top'>Back to top</a>\n",
    "<h2 id='day11'> Day 11 </h2>"
   ]
  },
  {
   "cell_type": "code",
   "execution_count": 18,
   "metadata": {
    "collapsed": false
   },
   "outputs": [
    {
     "name": "stdout",
     "output_type": "stream",
     "text": [
      "Part 1: 216,12\n",
      "Part 2: 236,175,11\n"
     ]
    }
   ],
   "source": [
    "grid_serial_number=3628\n",
    "#grid_serial_number=42\n",
    "\n",
    "#Find the fuel cell's rack ID, which is its X coordinate plus 10.\n",
    "#Begin with a power level of the rack ID times the Y coordinate.\n",
    "#Increase the power level by the value of the grid serial number (your puzzle input).\n",
    "#Set the power level to itself multiplied by the rack ID.\n",
    "#Keep only the hundreds digit of the power level (so 12345 becomes 3; numbers with no hundreds digit become 0).\n",
    "#Subtract 5 from the power level.\n",
    "\n",
    "grid=np.zeros((300,300),dtype=int)\n",
    "x=np.arange(1,301)\n",
    "y=np.arange(1,301)\n",
    "\n",
    "rack_id=(grid+x+10).transpose()\n",
    "grid=rack_id*y\n",
    "grid+=grid_serial_number\n",
    "grid=grid*rack_id\n",
    "grid=(grid//100)%10\n",
    "grid-=5\n",
    "\n",
    "def rolling_sum(a, n=3) :\n",
    "    # modified from https://stackoverflow.com/questions/28288252/fast-rolling-sum\n",
    "    ret = np.cumsum(a, axis=0, dtype=int)\n",
    "    ret[n:, :] = ret[n:, :] - ret[:-n, :]\n",
    "    ret = np.cumsum(ret, axis=1, dtype=int)\n",
    "    ret[:, n:] = ret[:, n:] - ret[:, :-n]\n",
    "    return ret[n - 1:, n - 1:]\n",
    "\n",
    "square_power_level=rolling_sum(grid,3)\n",
    "\n",
    "x,y=np.unravel_index(square_power_level.argmax(), square_power_level.shape)\n",
    "print('Part 1: %i,%i' %(x+1,y+1) )\n",
    "\n",
    "results={}\n",
    "for size in range(1,300):\n",
    "    square_power_level=rolling_sum(grid,size)\n",
    "    max_power=square_power_level.max()\n",
    "    x,y=np.unravel_index(square_power_level.argmax(), square_power_level.shape)\n",
    "    results[max_power]=(x,y,size)\n",
    "\n",
    "x,y,size=results[max(results)]\n",
    "print('Part 2: %i,%i,%i' %(x+1,y+1,size) )"
   ]
  },
  {
   "cell_type": "markdown",
   "metadata": {},
   "source": [
    "<a href='#top'>Back to top</a>\n",
    "<h2 id='day12'> Day 12 </h2>"
   ]
  },
  {
   "cell_type": "code",
   "execution_count": 19,
   "metadata": {
    "collapsed": false,
    "scrolled": false
   },
   "outputs": [
    {
     "name": "stdout",
     "output_type": "stream",
     "text": [
      "Part 1: 3059\n"
     ]
    }
   ],
   "source": [
    "with open(path+'input12.txt','r') as f:\n",
    "    pots=f.readlines()\n",
    "    \n",
    "current_pots=''.join(re.findall('[#,.]',pots[0]))\n",
    "current_pots=re.sub(r'^\\.*|\\.*$',r'....',current_pots)\n",
    "instructions=[''.join(re.findall('[#,.]',pot)) for pot in pots[2:]]\n",
    "results={}\n",
    "for instr in instructions:\n",
    "    results[instr[:-1]]=instr[-1]\n",
    "leftmost=current_pots.find('#')\n",
    "first_pot=leftmost-4\n",
    "\n",
    "def grow_plants(current_pots, first_pot):\n",
    "    new_generation=''.join([results[current_pots[i:i+5]]  if (current_pots[i:i+5] in results) else '.' for i in range(len(current_pots)-4)])\n",
    "    leftmost=new_generation.find('#')\n",
    "    first_pot+=leftmost-2\n",
    "    new_generation=re.sub(r'^\\.*|\\.*$',r'....',new_generation)\n",
    "    return new_generation, first_pot\n",
    "\n",
    "for generation in range(20):\n",
    "    current_pots, first_pot=grow_plants(current_pots, first_pot)\n",
    "\n",
    "current_pots=current_pots.strip('.')\n",
    "sum_all=0\n",
    "for i in range(first_pot,first_pot+len(current_pots)):\n",
    "    if current_pots[i-first_pot]=='#':\n",
    "        sum_all+=i\n",
    "        \n",
    "print('Part 1: %i'%sum_all)\n"
   ]
  },
  {
   "cell_type": "code",
   "execution_count": 20,
   "metadata": {
    "collapsed": false
   },
   "outputs": [
    {
     "name": "stdout",
     "output_type": "stream",
     "text": [
      "Part 2: 3650000001776\n"
     ]
    }
   ],
   "source": [
    "# Restart all the values\n",
    "current_pots=''.join(re.findall('[#,.]',pots[0]))\n",
    "current_pots=re.sub(r'^\\.*|\\.*$',r'....',current_pots)\n",
    "previous_config=[]\n",
    "previous_first_pot=[]\n",
    "leftmost=current_pots.find('#')\n",
    "first_pot=leftmost-4\n",
    "\n",
    "for generation in range(1000):\n",
    "    previous_config+=[current_pots]\n",
    "    previous_first_pot+=[first_pot]\n",
    "    current_pots, first_pot=grow_plants(current_pots, first_pot)\n",
    "    if current_pots in previous_config:\n",
    "        first_pot_shift=first_pot-previous_first_pot[previous_config.index(current_pots)]\n",
    "        break\n",
    "        \n",
    "# The same pot configuration repeats every generation from the last one used.\n",
    "# A more general form for repeat after more than just one generation is not implemented here\n",
    "total_first_pot_shift=first_pot_shift*(int(50e9)-generation-1)\n",
    "     \n",
    "current_pots=current_pots.strip('.')\n",
    "sum=0\n",
    "for i in range(first_pot,first_pot+len(current_pots)):\n",
    "    if current_pots[i-first_pot]=='#':\n",
    "        sum+=i\n",
    "        sum+=total_first_pot_shift\n",
    "print('Part 2: %i'%sum)"
   ]
  },
  {
   "cell_type": "code",
   "execution_count": null,
   "metadata": {
    "collapsed": true
   },
   "outputs": [],
   "source": []
  }
 ],
 "metadata": {
  "anaconda-cloud": {},
  "kernelspec": {
   "display_name": "Python [conda root]",
   "language": "python",
   "name": "conda-root-py"
  },
  "language_info": {
   "codemirror_mode": {
    "name": "ipython",
    "version": 3
   },
   "file_extension": ".py",
   "mimetype": "text/x-python",
   "name": "python",
   "nbconvert_exporter": "python",
   "pygments_lexer": "ipython3",
   "version": "3.5.2"
  }
 },
 "nbformat": 4,
 "nbformat_minor": 2
}
